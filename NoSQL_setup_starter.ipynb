{
 "cells": [
  {
   "cell_type": "markdown",
   "id": "9a57c4c6",
   "metadata": {},
   "source": [
    "# Eat Safe, Love"
   ]
  },
  {
   "cell_type": "markdown",
   "id": "064ef857",
   "metadata": {},
   "source": [
    "## Part 1: Database and Jupyter Notebook Set Up"
   ]
  },
  {
   "cell_type": "markdown",
   "id": "664e3c1f",
   "metadata": {},
   "source": [
    "Import the data provided in the `establishments.json` file from your Terminal. Name the database `uk_food` and the collection `establishments`.\n",
    "\n",
    "Within this markdown cell, copy the line of text you used to import the data from your Terminal. This way, future analysts will be able to repeat your process.\n",
    "\n",
    "e.g.: Import the dataset with `YOUR IMPORT TEXT HERE`"
   ]
  },
  {
   "cell_type": "code",
   "execution_count": 76,
   "id": "3ecdd008",
   "metadata": {},
   "outputs": [],
   "source": [
    "# Import dependencies\n",
    "from pymongo import MongoClient\n",
    "from pprint import pprint"
   ]
  },
  {
   "cell_type": "code",
   "execution_count": 77,
   "id": "59390c4a",
   "metadata": {},
   "outputs": [],
   "source": [
    "# Create an instance of MongoClient\n",
    "mongo = MongoClient(port=27017)"
   ]
  },
  {
   "cell_type": "code",
   "execution_count": 78,
   "id": "7f9ececa",
   "metadata": {},
   "outputs": [
    {
     "name": "stdout",
     "output_type": "stream",
     "text": [
      "['admin', 'artifacts', 'config', 'local', 'met', 'uk_food']\n"
     ]
    }
   ],
   "source": [
    "# confirm that our new database was created\n",
    "print(mongo.list_database_names())"
   ]
  },
  {
   "cell_type": "code",
   "execution_count": 79,
   "id": "71e373c1",
   "metadata": {},
   "outputs": [],
   "source": [
    "# assign the uk_food database to a variable name\n",
    "db = mongo['uk_food']"
   ]
  },
  {
   "cell_type": "code",
   "execution_count": 80,
   "id": "ef1b89ed",
   "metadata": {},
   "outputs": [
    {
     "name": "stdout",
     "output_type": "stream",
     "text": [
      "['establishments']\n"
     ]
    }
   ],
   "source": [
    "# review the collections in our new database\n",
    "print(db.list_collection_names())"
   ]
  },
  {
   "cell_type": "code",
   "execution_count": 81,
   "id": "18ab463c",
   "metadata": {},
   "outputs": [
    {
     "name": "stdout",
     "output_type": "stream",
     "text": [
      "['establishments']\n"
     ]
    }
   ],
   "source": [
    "# review the collections in our new database\n",
    "print(db.list_collection_names())"
   ]
  },
  {
   "cell_type": "code",
   "execution_count": 82,
   "id": "6a0d92df",
   "metadata": {},
   "outputs": [
    {
     "name": "stdout",
     "output_type": "stream",
     "text": [
      "{'AddressLine1': 'St Marys Church Of England Primary School',\n",
      " 'AddressLine2': 'Warren Road',\n",
      " 'AddressLine3': 'Folkestone',\n",
      " 'AddressLine4': 'Kent',\n",
      " 'BusinessName': 'St Marys COE (aided) Primary School',\n",
      " 'BusinessType': 'School/college/university',\n",
      " 'BusinessTypeID': 7845,\n",
      " 'ChangesByServerID': 0,\n",
      " 'Distance': 4591.871474174837,\n",
      " 'FHRSID': 289353,\n",
      " 'LocalAuthorityBusinessID': 'PI/000002468',\n",
      " 'LocalAuthorityCode': '188',\n",
      " 'LocalAuthorityEmailAddress': 'foodteam@folkestone-hythe.gov.uk',\n",
      " 'LocalAuthorityName': 'Folkestone and Hythe',\n",
      " 'LocalAuthorityWebSite': 'http://www.folkestone-hythe.gov.uk',\n",
      " 'NewRatingPending': False,\n",
      " 'Phone': '',\n",
      " 'PostCode': 'CT19 6QH',\n",
      " 'RatingDate': '2016-09-13T00:00:00',\n",
      " 'RatingKey': 'fhrs_5_en-gb',\n",
      " 'RatingValue': 5,\n",
      " 'RightToReply': '',\n",
      " 'SchemeType': 'FHRS',\n",
      " '_id': ObjectId('67dc58a8ff4a17cd92f4daee'),\n",
      " 'geocode': {'latitude': Decimal128('51.085797'),\n",
      "             'longitude': Decimal128('1.194762')},\n",
      " 'links': [{'href': 'https://api.ratings.food.gov.uk/establishments/289353',\n",
      "            'rel': 'self'}],\n",
      " 'meta': {'dataSource': None,\n",
      "          'extractDate': '0001-01-01T00:00:00',\n",
      "          'itemCount': 0,\n",
      "          'pageNumber': 0,\n",
      "          'pageSize': 0,\n",
      "          'returncode': None,\n",
      "          'totalCount': 0,\n",
      "          'totalPages': 0},\n",
      " 'scores': {'ConfidenceInManagement': 0, 'Hygiene': 0, 'Structural': 0}}\n"
     ]
    }
   ],
   "source": [
    "# review a document in the establishments collection\n",
    "pfind = db.establishments.find_one()\n",
    "\n",
    "pprint(pfind)"
   ]
  },
  {
   "cell_type": "code",
   "execution_count": 83,
   "id": "11c9f11b",
   "metadata": {},
   "outputs": [],
   "source": [
    "# assign the collection to a variable\n",
    "establishments = db['establishments']"
   ]
  },
  {
   "cell_type": "code",
   "execution_count": 84,
   "id": "128a8d52",
   "metadata": {},
   "outputs": [
    {
     "data": {
      "text/plain": [
       "Collection(Database(MongoClient(host=['localhost:27017'], document_class=dict, tz_aware=False, connect=True), 'uk_food'), 'establishments')"
      ]
     },
     "execution_count": 84,
     "metadata": {},
     "output_type": "execute_result"
    }
   ],
   "source": [
    "establishments"
   ]
  },
  {
   "cell_type": "markdown",
   "id": "d5671434",
   "metadata": {},
   "source": [
    "## Part 2: Update the Database"
   ]
  },
  {
   "cell_type": "markdown",
   "id": "314bd884",
   "metadata": {},
   "source": [
    "1. An exciting new halal restaurant just opened in Greenwich, but hasn't been rated yet. The magazine has asked you to include it in your analysis. Add the following restaurant \"Penang Flavours\" to the database."
   ]
  },
  {
   "cell_type": "code",
   "execution_count": 85,
   "id": "c2da7648",
   "metadata": {},
   "outputs": [],
   "source": [
    "# Create a dictionary for the new restaurant data\n",
    "new_place = {\n",
    "    \"BusinessName\":\"Penang Flavours\",\n",
    "    \"BusinessType\":\"Restaurant/Cafe/Canteen\",\n",
    "    \"BusinessTypeID\":\"\",\n",
    "    \"AddressLine1\":\"Penang Flavours\",\n",
    "    \"AddressLine2\":\"146A Plumstead Rd\",\n",
    "    \"AddressLine3\":\"London\",\n",
    "    \"AddressLine4\":\"\",\n",
    "    \"PostCode\":\"SE18 7DY\",\n",
    "    \"Phone\":\"\",\n",
    "    \"LocalAuthorityCode\":\"511\",\n",
    "    \"LocalAuthorityName\":\"Greenwich\",\n",
    "    \"LocalAuthorityWebSite\":\"http://www.royalgreenwich.gov.uk\",\n",
    "    \"LocalAuthorityEmailAddress\":\"health@royalgreenwich.gov.uk\",\n",
    "    \"scores\":{\n",
    "        \"Hygiene\":\"\",\n",
    "        \"Structural\":\"\",\n",
    "        \"ConfidenceInManagement\":\"\"\n",
    "    },\n",
    "    \"SchemeType\":\"FHRS\",\n",
    "    \"geocode\":{\n",
    "        \"longitude\":\"0.08384000\",\n",
    "        \"latitude\":\"51.49014200\"\n",
    "    },\n",
    "    \"RightToReply\":\"\",\n",
    "    \"Distance\":4623.9723280747176,\n",
    "    \"NewRatingPending\":True\n",
    "}"
   ]
  },
  {
   "cell_type": "code",
   "execution_count": 86,
   "id": "a6e5cece",
   "metadata": {},
   "outputs": [
    {
     "data": {
      "text/plain": [
       "InsertOneResult(ObjectId('67dc83e6e798e368088f1f28'), acknowledged=True)"
      ]
     },
     "execution_count": 86,
     "metadata": {},
     "output_type": "execute_result"
    }
   ],
   "source": [
    "# I believe issues were appearing because I was running the code multiple times, so multiple Penang Flavours were being added, so I added this to get rid of the extras before making a new one\n",
    "establishments.delete_one({\"BusinessName\": \"Penang Flavours\"})\n",
    "# Insert the new restaurant into the collection\n",
    "establishments.insert_one(new_place)"
   ]
  },
  {
   "cell_type": "code",
   "execution_count": 87,
   "id": "63bb10f9",
   "metadata": {},
   "outputs": [
    {
     "data": {
      "text/plain": [
       "[{'_id': ObjectId('67dc8053e798e368088f1f24'),\n",
       "  'BusinessName': 'Penang Flavours',\n",
       "  'BusinessType': 'Restaurant/Cafe/Canteen',\n",
       "  'BusinessTypeID': 1,\n",
       "  'AddressLine1': 'Penang Flavours',\n",
       "  'AddressLine2': '146A Plumstead Rd',\n",
       "  'AddressLine3': 'London',\n",
       "  'AddressLine4': '',\n",
       "  'PostCode': 'SE18 7DY',\n",
       "  'Phone': '',\n",
       "  'LocalAuthorityCode': '511',\n",
       "  'LocalAuthorityName': 'Greenwich',\n",
       "  'LocalAuthorityWebSite': 'http://www.royalgreenwich.gov.uk',\n",
       "  'LocalAuthorityEmailAddress': 'health@royalgreenwich.gov.uk',\n",
       "  'scores': {'Hygiene': '', 'Structural': '', 'ConfidenceInManagement': ''},\n",
       "  'SchemeType': 'FHRS',\n",
       "  'geocode': {'longitude': Decimal128('0.08384000'),\n",
       "   'latitude': Decimal128('51.49014200')},\n",
       "  'RightToReply': '',\n",
       "  'Distance': 4623.972328074718,\n",
       "  'NewRatingPending': True,\n",
       "  'RatingValue': None},\n",
       " {'_id': ObjectId('67dc808ee798e368088f1f26'),\n",
       "  'BusinessName': 'Penang Flavours',\n",
       "  'BusinessType': 'Restaurant/Cafe/Canteen',\n",
       "  'BusinessTypeID': 1,\n",
       "  'AddressLine1': 'Penang Flavours',\n",
       "  'AddressLine2': '146A Plumstead Rd',\n",
       "  'AddressLine3': 'London',\n",
       "  'AddressLine4': '',\n",
       "  'PostCode': 'SE18 7DY',\n",
       "  'Phone': '',\n",
       "  'LocalAuthorityCode': '511',\n",
       "  'LocalAuthorityName': 'Greenwich',\n",
       "  'LocalAuthorityWebSite': 'http://www.royalgreenwich.gov.uk',\n",
       "  'LocalAuthorityEmailAddress': 'health@royalgreenwich.gov.uk',\n",
       "  'scores': {'Hygiene': '', 'Structural': '', 'ConfidenceInManagement': ''},\n",
       "  'SchemeType': 'FHRS',\n",
       "  'geocode': {'longitude': Decimal128('0.08384000'),\n",
       "   'latitude': Decimal128('51.49014200')},\n",
       "  'RightToReply': '',\n",
       "  'Distance': 4623.972328074718,\n",
       "  'NewRatingPending': True,\n",
       "  'RatingValue': None},\n",
       " {'_id': ObjectId('67dc83e6e798e368088f1f28'),\n",
       "  'BusinessName': 'Penang Flavours',\n",
       "  'BusinessType': 'Restaurant/Cafe/Canteen',\n",
       "  'BusinessTypeID': '',\n",
       "  'AddressLine1': 'Penang Flavours',\n",
       "  'AddressLine2': '146A Plumstead Rd',\n",
       "  'AddressLine3': 'London',\n",
       "  'AddressLine4': '',\n",
       "  'PostCode': 'SE18 7DY',\n",
       "  'Phone': '',\n",
       "  'LocalAuthorityCode': '511',\n",
       "  'LocalAuthorityName': 'Greenwich',\n",
       "  'LocalAuthorityWebSite': 'http://www.royalgreenwich.gov.uk',\n",
       "  'LocalAuthorityEmailAddress': 'health@royalgreenwich.gov.uk',\n",
       "  'scores': {'Hygiene': '', 'Structural': '', 'ConfidenceInManagement': ''},\n",
       "  'SchemeType': 'FHRS',\n",
       "  'geocode': {'longitude': '0.08384000', 'latitude': '51.49014200'},\n",
       "  'RightToReply': '',\n",
       "  'Distance': 4623.972328074718,\n",
       "  'NewRatingPending': True}]"
      ]
     },
     "execution_count": 87,
     "metadata": {},
     "output_type": "execute_result"
    }
   ],
   "source": [
    "# Check that the new restaurant was inserted\n",
    "list(establishments.find({\"BusinessName\":\"Penang Flavours\"}))"
   ]
  },
  {
   "cell_type": "markdown",
   "id": "0ef4395a",
   "metadata": {},
   "source": [
    "2. Find the BusinessTypeID for \"Restaurant/Cafe/Canteen\" and return only the `BusinessTypeID` and `BusinessType` fields."
   ]
  },
  {
   "cell_type": "code",
   "execution_count": 88,
   "id": "93c63829",
   "metadata": {},
   "outputs": [
    {
     "data": {
      "text/plain": [
       "{'_id': ObjectId('67dc58a8ff4a17cd92f4daf2'),\n",
       " 'BusinessType': 'Restaurant/Cafe/Canteen',\n",
       " 'BusinessTypeID': 1}"
      ]
     },
     "execution_count": 88,
     "metadata": {},
     "output_type": "execute_result"
    }
   ],
   "source": [
    "# Find the BusinessTypeID for \"Restaurant/Cafe/Canteen\" and return only the BusinessTypeID and BusinessType fields\n",
    "bustype = {\"BusinessType\":\"Restaurant/Cafe/Canteen\"}\n",
    "busID = {\"BusinessTypeID\", \"BusinessType\"}\n",
    "establishments.find_one(bustype, busID)"
   ]
  },
  {
   "cell_type": "markdown",
   "id": "4e570caf",
   "metadata": {},
   "source": [
    "3. Update the new restaurant with the `BusinessTypeID` you found."
   ]
  },
  {
   "cell_type": "code",
   "execution_count": 89,
   "id": "7f599f3d",
   "metadata": {},
   "outputs": [
    {
     "data": {
      "text/plain": [
       "UpdateResult({'n': 1, 'nModified': 1, 'ok': 1.0, 'updatedExisting': True}, acknowledged=True)"
      ]
     },
     "execution_count": 89,
     "metadata": {},
     "output_type": "execute_result"
    }
   ],
   "source": [
    "# Update the new restaurant with the correct BusinessTypeID\n",
    "establishments.update_one(new_place,{'$set':{\"BusinessTypeID\": 1}},upsert=True)"
   ]
  },
  {
   "cell_type": "code",
   "execution_count": 90,
   "id": "a6ad16f7",
   "metadata": {},
   "outputs": [
    {
     "data": {
      "text/plain": [
       "{'_id': ObjectId('67dc8053e798e368088f1f24'),\n",
       " 'BusinessName': 'Penang Flavours',\n",
       " 'BusinessType': 'Restaurant/Cafe/Canteen',\n",
       " 'BusinessTypeID': 1,\n",
       " 'AddressLine1': 'Penang Flavours',\n",
       " 'AddressLine2': '146A Plumstead Rd',\n",
       " 'AddressLine3': 'London',\n",
       " 'AddressLine4': '',\n",
       " 'PostCode': 'SE18 7DY',\n",
       " 'Phone': '',\n",
       " 'LocalAuthorityCode': '511',\n",
       " 'LocalAuthorityName': 'Greenwich',\n",
       " 'LocalAuthorityWebSite': 'http://www.royalgreenwich.gov.uk',\n",
       " 'LocalAuthorityEmailAddress': 'health@royalgreenwich.gov.uk',\n",
       " 'scores': {'Hygiene': '', 'Structural': '', 'ConfidenceInManagement': ''},\n",
       " 'SchemeType': 'FHRS',\n",
       " 'geocode': {'longitude': Decimal128('0.08384000'),\n",
       "  'latitude': Decimal128('51.49014200')},\n",
       " 'RightToReply': '',\n",
       " 'Distance': 4623.972328074718,\n",
       " 'NewRatingPending': True,\n",
       " 'RatingValue': None}"
      ]
     },
     "execution_count": 90,
     "metadata": {},
     "output_type": "execute_result"
    }
   ],
   "source": [
    "# Confirm that the new restaurant was updated\n",
    "establishments.find_one({\"BusinessName\": \"Penang Flavours\"})"
   ]
  },
  {
   "cell_type": "markdown",
   "id": "67281254",
   "metadata": {},
   "source": [
    "4. The magazine is not interested in any establishments in Dover, so check how many documents contain the Dover Local Authority. Then, remove any establishments within the Dover Local Authority from the database, and check the number of documents to ensure they were deleted."
   ]
  },
  {
   "cell_type": "code",
   "execution_count": 91,
   "id": "768474a6",
   "metadata": {},
   "outputs": [
    {
     "data": {
      "text/plain": [
       "0"
      ]
     },
     "execution_count": 91,
     "metadata": {},
     "output_type": "execute_result"
    }
   ],
   "source": [
    "# Find how many documents have LocalAuthorityName as \"Dover\"\n",
    "establishments.count_documents({\"LocalAuthorityName\": \"Dover\"})"
   ]
  },
  {
   "cell_type": "code",
   "execution_count": 92,
   "id": "a11d5f1b",
   "metadata": {},
   "outputs": [
    {
     "data": {
      "text/plain": [
       "DeleteResult({'n': 0, 'ok': 1.0}, acknowledged=True)"
      ]
     },
     "execution_count": 92,
     "metadata": {},
     "output_type": "execute_result"
    }
   ],
   "source": [
    "# Delete all documents where LocalAuthorityName is \"Dover\"\n",
    "establishments.delete_many({\"LocalAuthorityName\": \"Dover\"})"
   ]
  },
  {
   "cell_type": "code",
   "execution_count": 93,
   "id": "2a51aba0",
   "metadata": {},
   "outputs": [
    {
     "data": {
      "text/plain": [
       "0"
      ]
     },
     "execution_count": 93,
     "metadata": {},
     "output_type": "execute_result"
    }
   ],
   "source": [
    "# Check if any remaining documents include Dover\n",
    "establishments.count_documents({\"LocalAuthorityName\": \"Dover\"})"
   ]
  },
  {
   "cell_type": "code",
   "execution_count": 94,
   "id": "8c356f7b",
   "metadata": {},
   "outputs": [
    {
     "data": {
      "text/plain": [
       "{'_id': ObjectId('67dc58a8ff4a17cd92f4daee'),\n",
       " 'FHRSID': 289353,\n",
       " 'ChangesByServerID': 0,\n",
       " 'LocalAuthorityBusinessID': 'PI/000002468',\n",
       " 'BusinessName': 'St Marys COE (aided) Primary School',\n",
       " 'BusinessType': 'School/college/university',\n",
       " 'BusinessTypeID': 7845,\n",
       " 'AddressLine1': 'St Marys Church Of England Primary School',\n",
       " 'AddressLine2': 'Warren Road',\n",
       " 'AddressLine3': 'Folkestone',\n",
       " 'AddressLine4': 'Kent',\n",
       " 'PostCode': 'CT19 6QH',\n",
       " 'Phone': '',\n",
       " 'RatingValue': 5,\n",
       " 'RatingKey': 'fhrs_5_en-gb',\n",
       " 'RatingDate': '2016-09-13T00:00:00',\n",
       " 'LocalAuthorityCode': '188',\n",
       " 'LocalAuthorityName': 'Folkestone and Hythe',\n",
       " 'LocalAuthorityWebSite': 'http://www.folkestone-hythe.gov.uk',\n",
       " 'LocalAuthorityEmailAddress': 'foodteam@folkestone-hythe.gov.uk',\n",
       " 'scores': {'Hygiene': 0, 'Structural': 0, 'ConfidenceInManagement': 0},\n",
       " 'SchemeType': 'FHRS',\n",
       " 'geocode': {'longitude': Decimal128('1.194762'),\n",
       "  'latitude': Decimal128('51.085797')},\n",
       " 'RightToReply': '',\n",
       " 'Distance': 4591.871474174837,\n",
       " 'NewRatingPending': False,\n",
       " 'meta': {'dataSource': None,\n",
       "  'extractDate': '0001-01-01T00:00:00',\n",
       "  'itemCount': 0,\n",
       "  'returncode': None,\n",
       "  'totalCount': 0,\n",
       "  'totalPages': 0,\n",
       "  'pageSize': 0,\n",
       "  'pageNumber': 0},\n",
       " 'links': [{'rel': 'self',\n",
       "   'href': 'https://api.ratings.food.gov.uk/establishments/289353'}]}"
      ]
     },
     "execution_count": 94,
     "metadata": {},
     "output_type": "execute_result"
    }
   ],
   "source": [
    "# Check that other documents remain with 'find_one'\n",
    "establishments.find_one()"
   ]
  },
  {
   "attachments": {},
   "cell_type": "markdown",
   "id": "e9f1662d",
   "metadata": {},
   "source": [
    "5. Some of the number values are stored as strings, when they should be stored as numbers."
   ]
  },
  {
   "attachments": {},
   "cell_type": "markdown",
   "id": "c46df2df",
   "metadata": {},
   "source": [
    "Use `update_many` to convert `latitude` and `longitude` to decimal numbers."
   ]
  },
  {
   "cell_type": "code",
   "execution_count": 95,
   "id": "fd4112ce",
   "metadata": {},
   "outputs": [
    {
     "data": {
      "text/plain": [
       "UpdateResult({'n': 38788, 'nModified': 1, 'ok': 1.0, 'updatedExisting': True}, acknowledged=True)"
      ]
     },
     "execution_count": 95,
     "metadata": {},
     "output_type": "execute_result"
    }
   ],
   "source": [
    "# Change the data type from String to Decimal for longitude and latitude\n",
    "establishments.update_many({}, [{\"$set\":{\"geocode.longitude\": {\"$toDecimal\": \"$geocode.longitude\"}}}])\n",
    "establishments.update_many({}, [{\"$set\":{\"geocode.latitude\": {\"$toDecimal\": \"$geocode.latitude\"}}}])"
   ]
  },
  {
   "attachments": {},
   "cell_type": "markdown",
   "id": "142e319c",
   "metadata": {},
   "source": [
    "Use `update_many` to convert `RatingValue` to integer numbers."
   ]
  },
  {
   "cell_type": "code",
   "execution_count": 96,
   "id": "04430a5b",
   "metadata": {},
   "outputs": [
    {
     "data": {
      "text/plain": [
       "UpdateResult({'n': 0, 'nModified': 0, 'ok': 1.0, 'updatedExisting': False}, acknowledged=True)"
      ]
     },
     "execution_count": 96,
     "metadata": {},
     "output_type": "execute_result"
    }
   ],
   "source": [
    "# Set non 1-5 Rating Values to Null\n",
    "non_ratings = [\"AwaitingInspection\", \"Awaiting Inspection\", \"AwaitingPublication\", \"Pass\", \"Exempt\"]\n",
    "establishments.update_many({\"RatingValue\": {\"$in\": non_ratings}}, [ {'$set':{ \"RatingValue\" : None}} ])"
   ]
  },
  {
   "cell_type": "code",
   "execution_count": 97,
   "id": "92524ccc",
   "metadata": {},
   "outputs": [
    {
     "data": {
      "text/plain": [
       "UpdateResult({'n': 38788, 'nModified': 1, 'ok': 1.0, 'updatedExisting': True}, acknowledged=True)"
      ]
     },
     "execution_count": 97,
     "metadata": {},
     "output_type": "execute_result"
    }
   ],
   "source": [
    "# Change the data type from String to Integer for RatingValue\n",
    "establishments.update_many({}, [{\"$set\": {\"RatingValue\": {\"$toInt\": \"$RatingValue\"}}}])"
   ]
  },
  {
   "cell_type": "code",
   "execution_count": 98,
   "id": "0deacaf9",
   "metadata": {},
   "outputs": [
    {
     "name": "stdout",
     "output_type": "stream",
     "text": [
      "{'RatingValue': 5,\n",
      " '_id': ObjectId('67dc58a8ff4a17cd92f4daee'),\n",
      " 'geocode': {'latitude': Decimal128('51.085797'),\n",
      "             'longitude': Decimal128('1.194762')}}\n",
      "{'RatingValue': 5,\n",
      " '_id': ObjectId('67dc58a8ff4a17cd92f4daef'),\n",
      " 'geocode': {'latitude': Decimal128('51.08084'),\n",
      "             'longitude': Decimal128('1.188537')}}\n",
      "{'RatingValue': 5,\n",
      " '_id': ObjectId('67dc58a8ff4a17cd92f4daf2'),\n",
      " 'geocode': {'latitude': Decimal128('51.083812'),\n",
      "             'longitude': Decimal128('1.195625')}}\n",
      "{'RatingValue': 4,\n",
      " '_id': ObjectId('67dc58a8ff4a17cd92f4daf3'),\n",
      " 'geocode': {'latitude': Decimal128('51.086058'),\n",
      "             'longitude': Decimal128('1.196408')}}\n",
      "{'RatingValue': 5,\n",
      " '_id': ObjectId('67dc58a8ff4a17cd92f4daf4'),\n",
      " 'geocode': {'latitude': Decimal128('51.08084'),\n",
      "             'longitude': Decimal128('1.188537')}}\n",
      "{'RatingValue': 4,\n",
      " '_id': ObjectId('67dc58a8ff4a17cd92f4daf5'),\n",
      " 'geocode': {'latitude': Decimal128('51.08084'),\n",
      "             'longitude': Decimal128('1.188537')}}\n",
      "{'RatingValue': 5,\n",
      " '_id': ObjectId('67dc58a8ff4a17cd92f4daf6'),\n",
      " 'geocode': {'latitude': Decimal128('51.0783519967076'),\n",
      "             'longitude': Decimal128('1.18590330311705')}}\n",
      "{'RatingValue': 5,\n",
      " '_id': ObjectId('67dc58a8ff4a17cd92f4daf7'),\n",
      " 'geocode': {'latitude': Decimal128('51.0783519967076'),\n",
      "             'longitude': Decimal128('1.18590330311705')}}\n",
      "{'RatingValue': 5,\n",
      " '_id': ObjectId('67dc58a8ff4a17cd92f4daf8'),\n",
      " 'geocode': {'latitude': Decimal128('51.0783519967076'),\n",
      "             'longitude': Decimal128('1.18590330311705')}}\n",
      "{'RatingValue': 5,\n",
      " '_id': ObjectId('67dc58a8ff4a17cd92f4daf9'),\n",
      " 'geocode': {'latitude': Decimal128('51.08084'),\n",
      "             'longitude': Decimal128('1.188537')}}\n",
      "{'RatingValue': 4,\n",
      " '_id': ObjectId('67dc58a8ff4a17cd92f4dafa'),\n",
      " 'geocode': {'latitude': Decimal128('51.0783519967076'),\n",
      "             'longitude': Decimal128('1.18590330311705')}}\n",
      "{'RatingValue': 5,\n",
      " '_id': ObjectId('67dc58a8ff4a17cd92f4dafb'),\n",
      " 'geocode': {'latitude': Decimal128('51.0783519967076'),\n",
      "             'longitude': Decimal128('1.18590330311705')}}\n",
      "{'RatingValue': 5,\n",
      " '_id': ObjectId('67dc58a8ff4a17cd92f4dafc'),\n",
      " 'geocode': {'latitude': Decimal128('51.0783519967076'),\n",
      "             'longitude': Decimal128('1.18590330311705')}}\n",
      "{'RatingValue': 5,\n",
      " '_id': ObjectId('67dc58a8ff4a17cd92f4dafd'),\n",
      " 'geocode': {'latitude': Decimal128('51.0783519967076'),\n",
      "             'longitude': Decimal128('1.18590330311705')}}\n",
      "{'RatingValue': 5,\n",
      " '_id': ObjectId('67dc58a8ff4a17cd92f4dafe'),\n",
      " 'geocode': {'latitude': Decimal128('51.0783519967076'),\n",
      "             'longitude': Decimal128('1.18590330311705')}}\n",
      "{'RatingValue': 5,\n",
      " '_id': ObjectId('67dc58a8ff4a17cd92f4daff'),\n",
      " 'geocode': {'latitude': Decimal128('51.0783519967076'),\n",
      "             'longitude': Decimal128('1.18590330311705')}}\n",
      "{'RatingValue': 5,\n",
      " '_id': ObjectId('67dc58a8ff4a17cd92f4db00'),\n",
      " 'geocode': {'latitude': Decimal128('51.0783519967076'),\n",
      "             'longitude': Decimal128('1.18590330311705')}}\n",
      "{'RatingValue': 3,\n",
      " '_id': ObjectId('67dc58a8ff4a17cd92f4db01'),\n",
      " 'geocode': {'latitude': Decimal128('51.0783519967076'),\n",
      "             'longitude': Decimal128('1.18590330311705')}}\n",
      "{'RatingValue': 4,\n",
      " '_id': ObjectId('67dc58a8ff4a17cd92f4db02'),\n",
      " 'geocode': {'latitude': Decimal128('51.0783519967076'),\n",
      "             'longitude': Decimal128('1.18590330311705')}}\n",
      "{'RatingValue': 3,\n",
      " '_id': ObjectId('67dc58a8ff4a17cd92f4db03'),\n",
      " 'geocode': {'latitude': Decimal128('51.0783519967076'),\n",
      "             'longitude': Decimal128('1.18590330311705')}}\n",
      "{'RatingValue': 5,\n",
      " '_id': ObjectId('67dc58a8ff4a17cd92f4db04'),\n",
      " 'geocode': {'latitude': Decimal128('51.0783519967076'),\n",
      "             'longitude': Decimal128('1.18590330311705')}}\n",
      "{'RatingValue': 5,\n",
      " '_id': ObjectId('67dc58a8ff4a17cd92f4db05'),\n",
      " 'geocode': {'latitude': Decimal128('51.0783519967076'),\n",
      "             'longitude': Decimal128('1.18590330311705')}}\n",
      "{'RatingValue': 5,\n",
      " '_id': ObjectId('67dc58a8ff4a17cd92f4db06'),\n",
      " 'geocode': {'latitude': Decimal128('51.0783519967076'),\n",
      "             'longitude': Decimal128('1.18590330311705')}}\n",
      "{'RatingValue': 5,\n",
      " '_id': ObjectId('67dc58a8ff4a17cd92f4db07'),\n",
      " 'geocode': {'latitude': Decimal128('51.0783519967076'),\n",
      "             'longitude': Decimal128('1.18590330311705')}}\n",
      "{'RatingValue': 5,\n",
      " '_id': ObjectId('67dc58a8ff4a17cd92f4db08'),\n",
      " 'geocode': {'latitude': Decimal128('51.0783519967076'),\n",
      "             'longitude': Decimal128('1.18590330311705')}}\n",
      "{'RatingValue': 5,\n",
      " '_id': ObjectId('67dc58a8ff4a17cd92f4db09'),\n",
      " 'geocode': {'latitude': Decimal128('51.0783519967076'),\n",
      "             'longitude': Decimal128('1.18590330311705')}}\n",
      "{'RatingValue': 4,\n",
      " '_id': ObjectId('67dc58a8ff4a17cd92f4db0a'),\n",
      " 'geocode': {'latitude': Decimal128('51.0783519967076'),\n",
      "             'longitude': Decimal128('1.18590330311705')}}\n",
      "{'RatingValue': 5,\n",
      " '_id': ObjectId('67dc58a8ff4a17cd92f4db0b'),\n",
      " 'geocode': {'latitude': Decimal128('51.0783519967076'),\n",
      "             'longitude': Decimal128('1.18590330311705')}}\n",
      "{'RatingValue': 4,\n",
      " '_id': ObjectId('67dc58a8ff4a17cd92f4db0c'),\n",
      " 'geocode': {'latitude': Decimal128('51.0783519967076'),\n",
      "             'longitude': Decimal128('1.18590330311705')}}\n",
      "{'RatingValue': 5,\n",
      " '_id': ObjectId('67dc58a8ff4a17cd92f4db0d'),\n",
      " 'geocode': {'latitude': Decimal128('51.0783519967076'),\n",
      "             'longitude': Decimal128('1.18590330311705')}}\n",
      "{'RatingValue': 2,\n",
      " '_id': ObjectId('67dc58a8ff4a17cd92f4db0e'),\n",
      " 'geocode': {'latitude': Decimal128('51.0783519967076'),\n",
      "             'longitude': Decimal128('1.18590330311705')}}\n",
      "{'RatingValue': 4,\n",
      " '_id': ObjectId('67dc58a8ff4a17cd92f4db0f'),\n",
      " 'geocode': {'latitude': Decimal128('51.0783519967076'),\n",
      "             'longitude': Decimal128('1.18590330311705')}}\n",
      "{'RatingValue': 5,\n",
      " '_id': ObjectId('67dc58a8ff4a17cd92f4db10'),\n",
      " 'geocode': {'latitude': Decimal128('51.0783519967076'),\n",
      "             'longitude': Decimal128('1.18590330311705')}}\n",
      "{'RatingValue': 5,\n",
      " '_id': ObjectId('67dc58a8ff4a17cd92f4db11'),\n",
      " 'geocode': {'latitude': Decimal128('51.0783519967076'),\n",
      "             'longitude': Decimal128('1.18590330311705')}}\n",
      "{'RatingValue': 5,\n",
      " '_id': ObjectId('67dc58a8ff4a17cd92f4db12'),\n",
      " 'geocode': {'latitude': Decimal128('51.0783519967076'),\n",
      "             'longitude': Decimal128('1.18590330311705')}}\n",
      "{'RatingValue': 2,\n",
      " '_id': ObjectId('67dc58a8ff4a17cd92f4db13'),\n",
      " 'geocode': {'latitude': Decimal128('51.0783519967076'),\n",
      "             'longitude': Decimal128('1.18590330311705')}}\n",
      "{'RatingValue': 5,\n",
      " '_id': ObjectId('67dc58a8ff4a17cd92f4db14'),\n",
      " 'geocode': {'latitude': Decimal128('51.0783519967076'),\n",
      "             'longitude': Decimal128('1.18590330311705')}}\n",
      "{'RatingValue': 5,\n",
      " '_id': ObjectId('67dc58a8ff4a17cd92f4db15'),\n",
      " 'geocode': {'latitude': Decimal128('51.0783519967076'),\n",
      "             'longitude': Decimal128('1.18590330311705')}}\n",
      "{'RatingValue': 5,\n",
      " '_id': ObjectId('67dc58a8ff4a17cd92f4db17'),\n",
      " 'geocode': {'latitude': Decimal128('51.0783519967076'),\n",
      "             'longitude': Decimal128('1.18590330311705')}}\n",
      "{'RatingValue': 5,\n",
      " '_id': ObjectId('67dc58a8ff4a17cd92f4db18'),\n",
      " 'geocode': {'latitude': Decimal128('51.0783519967076'),\n",
      "             'longitude': Decimal128('1.18590330311705')}}\n",
      "{'RatingValue': 3,\n",
      " '_id': ObjectId('67dc58a8ff4a17cd92f4db19'),\n",
      " 'geocode': {'latitude': Decimal128('51.0783519967076'),\n",
      "             'longitude': Decimal128('1.18590330311705')}}\n",
      "{'RatingValue': 5,\n",
      " '_id': ObjectId('67dc58a8ff4a17cd92f4db1a'),\n",
      " 'geocode': {'latitude': Decimal128('51.0783519967076'),\n",
      "             'longitude': Decimal128('1.18590330311705')}}\n",
      "{'RatingValue': 2,\n",
      " '_id': ObjectId('67dc58a8ff4a17cd92f4db1b'),\n",
      " 'geocode': {'latitude': Decimal128('51.078449'),\n",
      "             'longitude': Decimal128('1.18516')}}\n",
      "{'RatingValue': 5,\n",
      " '_id': ObjectId('67dc58a8ff4a17cd92f4db1d'),\n",
      " 'geocode': {'latitude': Decimal128('51.095015'),\n",
      "             'longitude': Decimal128('1.202055')}}\n",
      "{'RatingValue': 5,\n",
      " '_id': ObjectId('67dc58a8ff4a17cd92f4db1e'),\n",
      " 'geocode': {'latitude': Decimal128('51.080673'),\n",
      "             'longitude': Decimal128('1.187083')}}\n",
      "{'RatingValue': 5,\n",
      " '_id': ObjectId('67dc58a8ff4a17cd92f4db1f'),\n",
      " 'geocode': {'latitude': Decimal128('51.079985650005'),\n",
      "             'longitude': Decimal128('1.18628335007084')}}\n",
      "{'RatingValue': 5,\n",
      " '_id': ObjectId('67dc58a8ff4a17cd92f4db20'),\n",
      " 'geocode': {'latitude': Decimal128('51.080446'),\n",
      "             'longitude': Decimal128('1.186825')}}\n",
      "{'RatingValue': 5,\n",
      " '_id': ObjectId('67dc58a8ff4a17cd92f4db21'),\n",
      " 'geocode': {'latitude': Decimal128('51.080284'),\n",
      "             'longitude': Decimal128('1.186485')}}\n",
      "{'RatingValue': 5,\n",
      " '_id': ObjectId('67dc58a8ff4a17cd92f4db22'),\n",
      " 'geocode': {'latitude': Decimal128('51.080284'),\n",
      "             'longitude': Decimal128('1.186485')}}\n",
      "{'RatingValue': 5,\n",
      " '_id': ObjectId('67dc58a8ff4a17cd92f4db25'),\n",
      " 'geocode': {'latitude': Decimal128('51.087887'),\n",
      "             'longitude': Decimal128('1.194306')}}\n",
      "{'RatingValue': 5,\n",
      " '_id': ObjectId('67dc58a8ff4a17cd92f4db27'),\n",
      " 'geocode': {'latitude': Decimal128('51.079613'),\n",
      "             'longitude': Decimal128('1.185368')}}\n",
      "{'RatingValue': 5,\n",
      " '_id': ObjectId('67dc58a8ff4a17cd92f4db28'),\n",
      " 'geocode': {'latitude': Decimal128('51.083232'),\n",
      "             'longitude': Decimal128('1.188902')}}\n",
      "{'RatingValue': 5,\n",
      " '_id': ObjectId('67dc58a8ff4a17cd92f4db29'),\n",
      " 'geocode': {'latitude': Decimal128('51.079613'),\n",
      "             'longitude': Decimal128('1.185368')}}\n",
      "{'RatingValue': 3,\n",
      " '_id': ObjectId('67dc58a8ff4a17cd92f4db2a'),\n",
      " 'geocode': {'latitude': Decimal128('51.077971'),\n",
      "             'longitude': Decimal128('1.183585')}}\n",
      "{'RatingValue': 5,\n",
      " '_id': ObjectId('67dc58a8ff4a17cd92f4db2c'),\n",
      " 'geocode': {'latitude': Decimal128('51.080224'),\n",
      "             'longitude': Decimal128('1.186067')}}\n",
      "{'RatingValue': 5,\n",
      " '_id': ObjectId('67dc58a8ff4a17cd92f4db2d'),\n",
      " 'geocode': {'latitude': Decimal128('51.080838'),\n",
      "             'longitude': Decimal128('1.186309')}}\n",
      "{'RatingValue': 5,\n",
      " '_id': ObjectId('67dc58a8ff4a17cd92f4db2e'),\n",
      " 'geocode': {'latitude': Decimal128('51.081735'),\n",
      "             'longitude': Decimal128('1.187056')}}\n",
      "{'RatingValue': 5,\n",
      " '_id': ObjectId('67dc58a8ff4a17cd92f4db2f'),\n",
      " 'geocode': {'latitude': Decimal128('51.081546'),\n",
      "             'longitude': Decimal128('1.186715')}}\n",
      "{'RatingValue': 2,\n",
      " '_id': ObjectId('67dc58a8ff4a17cd92f4db30'),\n",
      " 'geocode': {'latitude': Decimal128('51.07915'),\n",
      "             'longitude': Decimal128('1.184194')}}\n",
      "{'RatingValue': 3,\n",
      " '_id': ObjectId('67dc58a8ff4a17cd92f4db32'),\n",
      " 'geocode': {'latitude': Decimal128('51.07915'),\n",
      "             'longitude': Decimal128('1.184194')}}\n",
      "{'RatingValue': 5,\n",
      " '_id': ObjectId('67dc58a8ff4a17cd92f4db35'),\n",
      " 'geocode': {'latitude': Decimal128('51.086262'),\n",
      "             'longitude': Decimal128('1.190896')}}\n",
      "{'RatingValue': 5,\n",
      " '_id': ObjectId('67dc58a8ff4a17cd92f4db36'),\n",
      " 'geocode': {'latitude': Decimal128('51.0877821'),\n",
      "             'longitude': Decimal128('1.1920251')}}\n",
      "{'RatingValue': 5,\n",
      " '_id': ObjectId('67dc58a8ff4a17cd92f4db37'),\n",
      " 'geocode': {'latitude': Decimal128('51.0818061828613'),\n",
      "             'longitude': Decimal128('1.18601894378662')}}\n",
      "{'RatingValue': 5,\n",
      " '_id': ObjectId('67dc58a8ff4a17cd92f4db39'),\n",
      " 'geocode': {'latitude': Decimal128('51.0804824829102'),\n",
      "             'longitude': Decimal128('1.18421399593353')}}\n",
      "{'RatingValue': 5,\n",
      " '_id': ObjectId('67dc58a8ff4a17cd92f4db3a'),\n",
      " 'geocode': {'latitude': Decimal128('51.0804824829102'),\n",
      "             'longitude': Decimal128('1.18421399593353')}}\n",
      "{'RatingValue': 4,\n",
      " '_id': ObjectId('67dc58a8ff4a17cd92f4db3b'),\n",
      " 'geocode': {'latitude': Decimal128('51.079301'),\n",
      "             'longitude': Decimal128('1.182962')}}\n",
      "{'RatingValue': 5,\n",
      " '_id': ObjectId('67dc58a8ff4a17cd92f4db3c'),\n",
      " 'geocode': {'latitude': Decimal128('51.0804748535156'),\n",
      "             'longitude': Decimal128('1.18425798416138')}}\n",
      "{'RatingValue': 5,\n",
      " '_id': ObjectId('67dc58a8ff4a17cd92f4db3d'),\n",
      " 'geocode': {'latitude': Decimal128('51.0803'),\n",
      "             'longitude': Decimal128('1.184916')}}\n",
      "{'RatingValue': 4,\n",
      " '_id': ObjectId('67dc58a8ff4a17cd92f4db3e'),\n",
      " 'geocode': {'latitude': Decimal128('51.0809478759766'),\n",
      "             'longitude': Decimal128('1.18431901931763')}}\n",
      "{'RatingValue': 4,\n",
      " '_id': ObjectId('67dc58a8ff4a17cd92f4db3f'),\n",
      " 'geocode': {'latitude': Decimal128('51.080956'),\n",
      "             'longitude': Decimal128('1.18429')}}\n",
      "{'RatingValue': 5,\n",
      " '_id': ObjectId('67dc58a8ff4a17cd92f4db40'),\n",
      " 'geocode': {'latitude': Decimal128('51.0793'),\n",
      "             'longitude': Decimal128('1.182962')}}\n",
      "{'RatingValue': 5,\n",
      " '_id': ObjectId('67dc58a8ff4a17cd92f4db41'),\n",
      " 'geocode': {'latitude': Decimal128('51.080956'),\n",
      "             'longitude': Decimal128('1.18429')}}\n",
      "{'RatingValue': 5,\n",
      " '_id': ObjectId('67dc58a8ff4a17cd92f4db42'),\n",
      " 'geocode': {'latitude': Decimal128('51.080804'),\n",
      "             'longitude': Decimal128('1.183893')}}\n",
      "{'RatingValue': 3,\n",
      " '_id': ObjectId('67dc58a8ff4a17cd92f4db43'),\n",
      " 'geocode': {'latitude': Decimal128('51.080956'),\n",
      "             'longitude': Decimal128('1.18429')}}\n",
      "{'RatingValue': 5,\n",
      " '_id': ObjectId('67dc58a8ff4a17cd92f4db44'),\n",
      " 'geocode': {'latitude': Decimal128('51.080339'),\n",
      "             'longitude': Decimal128('1.182805')}}\n",
      "{'RatingValue': 5,\n",
      " '_id': ObjectId('67dc58a8ff4a17cd92f4db46'),\n",
      " 'geocode': {'latitude': Decimal128('51.080956'),\n",
      "             'longitude': Decimal128('1.18429')}}\n",
      "{'RatingValue': 4,\n",
      " '_id': ObjectId('67dc58a8ff4a17cd92f4db47'),\n",
      " 'geocode': {'latitude': Decimal128('51.080805'),\n",
      "             'longitude': Decimal128('1.183894')}}\n",
      "{'RatingValue': 5,\n",
      " '_id': ObjectId('67dc58a8ff4a17cd92f4db48'),\n",
      " 'geocode': {'latitude': Decimal128('51.080339'),\n",
      "             'longitude': Decimal128('1.182805')}}\n",
      "{'RatingValue': 5,\n",
      " '_id': ObjectId('67dc58a8ff4a17cd92f4db49'),\n",
      " 'geocode': {'latitude': Decimal128('51.079905'),\n",
      "             'longitude': Decimal128('1.182875')}}\n",
      "{'RatingValue': 4,\n",
      " '_id': ObjectId('67dc58a8ff4a17cd92f4db4a'),\n",
      " 'geocode': {'latitude': Decimal128('51.097794'),\n",
      "             'longitude': Decimal128('1.201433')}}\n",
      "{'RatingValue': 5,\n",
      " '_id': ObjectId('67dc58a8ff4a17cd92f4db4b'),\n",
      " 'geocode': {'latitude': Decimal128('51.0810258'),\n",
      "             'longitude': Decimal128('1.1835476')}}\n",
      "{'RatingValue': 5,\n",
      " '_id': ObjectId('67dc58a8ff4a17cd92f4db4c'),\n",
      " 'geocode': {'latitude': Decimal128('51.08034'),\n",
      "             'longitude': Decimal128('1.182805')}}\n",
      "{'RatingValue': 5,\n",
      " '_id': ObjectId('67dc58a8ff4a17cd92f4db4d'),\n",
      " 'geocode': {'latitude': Decimal128('51.08034'),\n",
      "             'longitude': Decimal128('1.182805')}}\n",
      "{'RatingValue': 5,\n",
      " '_id': ObjectId('67dc58a8ff4a17cd92f4db4e'),\n",
      " 'geocode': {'latitude': Decimal128('51.08034'),\n",
      "             'longitude': Decimal128('1.182805')}}\n",
      "{'RatingValue': 5,\n",
      " '_id': ObjectId('67dc58a8ff4a17cd92f4db4f'),\n",
      " 'geocode': {'latitude': Decimal128('51.0802956'),\n",
      "             'longitude': Decimal128('1.1823865')}}\n",
      "{'RatingValue': 4,\n",
      " '_id': ObjectId('67dc58a8ff4a17cd92f4db50'),\n",
      " 'geocode': {'latitude': Decimal128('51.079889'),\n",
      "             'longitude': Decimal128('1.181832')}}\n",
      "{'RatingValue': 5,\n",
      " '_id': ObjectId('67dc58a8ff4a17cd92f4db52'),\n",
      " 'geocode': {'latitude': Decimal128('51.08034'),\n",
      "             'longitude': Decimal128('1.182805')}}\n",
      "{'RatingValue': 3,\n",
      " '_id': ObjectId('67dc58a8ff4a17cd92f4db53'),\n",
      " 'geocode': {'latitude': Decimal128('51.0803409'),\n",
      "             'longitude': Decimal128('1.1822069')}}\n",
      "{'RatingValue': 5,\n",
      " '_id': ObjectId('67dc58a8ff4a17cd92f4db54'),\n",
      " 'geocode': {'latitude': Decimal128('51.079542'),\n",
      "             'longitude': Decimal128('1.181365')}}\n",
      "{'RatingValue': 5,\n",
      " '_id': ObjectId('67dc58a8ff4a17cd92f4db55'),\n",
      " 'geocode': {'latitude': Decimal128('51.079532623291'),\n",
      "             'longitude': Decimal128('1.1813759803772')}}\n",
      "{'RatingValue': 5,\n",
      " '_id': ObjectId('67dc58a8ff4a17cd92f4db56'),\n",
      " 'geocode': {'latitude': Decimal128('51.079542'),\n",
      "             'longitude': Decimal128('1.181365')}}\n",
      "{'RatingValue': 3,\n",
      " '_id': ObjectId('67dc58a8ff4a17cd92f4db57'),\n",
      " 'geocode': {'latitude': Decimal128('51.078209'),\n",
      "             'longitude': Decimal128('1.179446')}}\n",
      "{'RatingValue': 4,\n",
      " '_id': ObjectId('67dc58a8ff4a17cd92f4db58'),\n",
      " 'geocode': {'latitude': Decimal128('51.079542'),\n",
      "             'longitude': Decimal128('1.181365')}}\n",
      "{'RatingValue': 5,\n",
      " '_id': ObjectId('67dc58a8ff4a17cd92f4db59'),\n",
      " 'geocode': {'latitude': Decimal128('51.0798931'),\n",
      "             'longitude': Decimal128('1.1817077')}}\n",
      "{'RatingValue': 5,\n",
      " '_id': ObjectId('67dc58a8ff4a17cd92f4db5a'),\n",
      " 'geocode': {'latitude': Decimal128('51.080412'),\n",
      "             'longitude': Decimal128('1.182125')}}\n",
      "{'RatingValue': 5,\n",
      " '_id': ObjectId('67dc58a8ff4a17cd92f4db5b'),\n",
      " 'geocode': {'latitude': Decimal128('51.080412'),\n",
      "             'longitude': Decimal128('1.182125')}}\n",
      "{'RatingValue': 5,\n",
      " '_id': ObjectId('67dc58a8ff4a17cd92f4db5d'),\n",
      " 'geocode': {'latitude': Decimal128('51.079799'),\n",
      "             'longitude': Decimal128('1.181482')}}\n",
      "{'RatingValue': 5,\n",
      " '_id': ObjectId('67dc58a8ff4a17cd92f4db5e'),\n",
      " 'geocode': {'latitude': Decimal128('51.0800235'),\n",
      "             'longitude': Decimal128('1.1813097')}}\n",
      "{'RatingValue': 5,\n",
      " '_id': ObjectId('67dc58a8ff4a17cd92f4db5f'),\n",
      " 'geocode': {'latitude': Decimal128('51.0797886'),\n",
      "             'longitude': Decimal128('1.1810166')}}\n",
      "{'RatingValue': 5,\n",
      " '_id': ObjectId('67dc58a8ff4a17cd92f4db60'),\n",
      " 'geocode': {'latitude': Decimal128('51.0802346'),\n",
      "             'longitude': Decimal128('1.1814856')}}\n"
     ]
    }
   ],
   "source": [
    "# Check that the coordinates and rating value are now numbers\n",
    "ratings = {\"RatingValue\": {\"$gte\":1}}\n",
    "lonlat = {\"geocode\":1, \"RatingValue\":1}\n",
    "\n",
    "values = establishments.find(ratings,lonlat)\n",
    "\n",
    "for x in range(100):\n",
    "    pprint(values[x])"
   ]
  }
 ],
 "metadata": {
  "kernelspec": {
   "display_name": "base",
   "language": "python",
   "name": "python3"
  },
  "language_info": {
   "codemirror_mode": {
    "name": "ipython",
    "version": 3
   },
   "file_extension": ".py",
   "mimetype": "text/x-python",
   "name": "python",
   "nbconvert_exporter": "python",
   "pygments_lexer": "ipython3",
   "version": "3.12.7"
  }
 },
 "nbformat": 4,
 "nbformat_minor": 5
}
